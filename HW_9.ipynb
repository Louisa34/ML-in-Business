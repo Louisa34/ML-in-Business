{
 "cells": [
  {
   "cell_type": "markdown",
   "id": "571a0097",
   "metadata": {},
   "source": [
    "# Домашнее задание\n",
    "\n",
    "**Стандартная версия**\n",
    "Нужно реализовать rest api на базе flask \n",
    "\n",
    "1. выбрать себе датасет (который интересен или нравится больше всего, можно глянуть здесь https://economic-caper-a4c.notion.site/d062c410b90145bca90fc23b1348c813), сделать pipeline (преобразования + модель), сохранить его на диск. Если не хочется пайплайн, то можно без него, но так вам же будет удобнее потом вызывать его из кода сервиса.\n",
    "2. Реализовать ноутбук с сервером\n",
    "3. Реализовать ноутбук с клиентом"
   ]
  },
  {
   "cell_type": "markdown",
   "id": "a96b6e72",
   "metadata": {},
   "source": [
    "### Step 1 - TRAIN"
   ]
  },
  {
   "cell_type": "markdown",
   "id": "85de7de7",
   "metadata": {},
   "source": [
    "### Обучение пайплайна\n",
    "\n",
    "1. Соберем пайплайн с простейшим препроцессингом (tfidf) на текстовых данных\n",
    "2. Обучим логистическую регрессию и сохраним на диск предобученный пайплайн"
   ]
  },
  {
   "cell_type": "code",
   "execution_count": 1,
   "id": "7f09474f",
   "metadata": {},
   "outputs": [],
   "source": [
    "import pandas as pd\n",
    "import dill\n",
    "import numpy as np\n",
    "from sklearn.model_selection import cross_val_score, train_test_split\n",
    "from sklearn.base import BaseEstimator, TransformerMixin\n",
    "\n",
    "from sklearn.linear_model import LogisticRegression\n",
    "import lightgbm as lgbm, catboost as catb\n",
    "\n",
    "from sklearn.metrics import confusion_matrix, accuracy_score, classification_report\n",
    "from sklearn.metrics import roc_auc_score, roc_curve, precision_recall_curve\n",
    "from sklearn.metrics import f1_score\n",
    "\n",
    "#normalizing data\n",
    "from sklearn.preprocessing import StandardScaler\n",
    "\n",
    "#pipeline\n",
    "from sklearn.pipeline import Pipeline, FeatureUnion\n",
    "from sklearn.metrics import precision_score,recall_score\n",
    "\n",
    "#imputer\n",
    "from sklearn.impute import SimpleImputer\n",
    "\n",
    "import sklearn.datasets\n",
    "\n",
    "#flask\n",
    "from flask import Flask, request, jsonify\n",
    "\n",
    "import warnings\n",
    "warnings.filterwarnings(\"ignore\")"
   ]
  },
  {
   "cell_type": "code",
   "execution_count": 2,
   "id": "8f7eaf8a",
   "metadata": {},
   "outputs": [
    {
     "data": {
      "text/html": [
       "<div>\n",
       "<style scoped>\n",
       "    .dataframe tbody tr th:only-of-type {\n",
       "        vertical-align: middle;\n",
       "    }\n",
       "\n",
       "    .dataframe tbody tr th {\n",
       "        vertical-align: top;\n",
       "    }\n",
       "\n",
       "    .dataframe thead th {\n",
       "        text-align: right;\n",
       "    }\n",
       "</style>\n",
       "<table border=\"1\" class=\"dataframe\">\n",
       "  <thead>\n",
       "    <tr style=\"text-align: right;\">\n",
       "      <th></th>\n",
       "      <th>id</th>\n",
       "      <th>age</th>\n",
       "      <th>gender</th>\n",
       "      <th>height</th>\n",
       "      <th>weight</th>\n",
       "      <th>ap_hi</th>\n",
       "      <th>ap_lo</th>\n",
       "      <th>cholesterol</th>\n",
       "      <th>gluc</th>\n",
       "      <th>smoke</th>\n",
       "      <th>alco</th>\n",
       "      <th>active</th>\n",
       "      <th>cardio</th>\n",
       "    </tr>\n",
       "  </thead>\n",
       "  <tbody>\n",
       "    <tr>\n",
       "      <th>0</th>\n",
       "      <td>0</td>\n",
       "      <td>18393</td>\n",
       "      <td>2</td>\n",
       "      <td>168</td>\n",
       "      <td>62.0</td>\n",
       "      <td>110</td>\n",
       "      <td>80</td>\n",
       "      <td>1</td>\n",
       "      <td>1</td>\n",
       "      <td>0</td>\n",
       "      <td>0</td>\n",
       "      <td>1</td>\n",
       "      <td>0</td>\n",
       "    </tr>\n",
       "    <tr>\n",
       "      <th>1</th>\n",
       "      <td>1</td>\n",
       "      <td>20228</td>\n",
       "      <td>1</td>\n",
       "      <td>156</td>\n",
       "      <td>85.0</td>\n",
       "      <td>140</td>\n",
       "      <td>90</td>\n",
       "      <td>3</td>\n",
       "      <td>1</td>\n",
       "      <td>0</td>\n",
       "      <td>0</td>\n",
       "      <td>1</td>\n",
       "      <td>1</td>\n",
       "    </tr>\n",
       "    <tr>\n",
       "      <th>2</th>\n",
       "      <td>2</td>\n",
       "      <td>18857</td>\n",
       "      <td>1</td>\n",
       "      <td>165</td>\n",
       "      <td>64.0</td>\n",
       "      <td>130</td>\n",
       "      <td>70</td>\n",
       "      <td>3</td>\n",
       "      <td>1</td>\n",
       "      <td>0</td>\n",
       "      <td>0</td>\n",
       "      <td>0</td>\n",
       "      <td>1</td>\n",
       "    </tr>\n",
       "    <tr>\n",
       "      <th>3</th>\n",
       "      <td>3</td>\n",
       "      <td>17623</td>\n",
       "      <td>2</td>\n",
       "      <td>169</td>\n",
       "      <td>82.0</td>\n",
       "      <td>150</td>\n",
       "      <td>100</td>\n",
       "      <td>1</td>\n",
       "      <td>1</td>\n",
       "      <td>0</td>\n",
       "      <td>0</td>\n",
       "      <td>1</td>\n",
       "      <td>1</td>\n",
       "    </tr>\n",
       "    <tr>\n",
       "      <th>4</th>\n",
       "      <td>4</td>\n",
       "      <td>17474</td>\n",
       "      <td>1</td>\n",
       "      <td>156</td>\n",
       "      <td>56.0</td>\n",
       "      <td>100</td>\n",
       "      <td>60</td>\n",
       "      <td>1</td>\n",
       "      <td>1</td>\n",
       "      <td>0</td>\n",
       "      <td>0</td>\n",
       "      <td>0</td>\n",
       "      <td>0</td>\n",
       "    </tr>\n",
       "  </tbody>\n",
       "</table>\n",
       "</div>"
      ],
      "text/plain": [
       "   id    age  gender  height  weight  ap_hi  ap_lo  cholesterol  gluc  smoke  \\\n",
       "0   0  18393       2     168    62.0    110     80            1     1      0   \n",
       "1   1  20228       1     156    85.0    140     90            3     1      0   \n",
       "2   2  18857       1     165    64.0    130     70            3     1      0   \n",
       "3   3  17623       2     169    82.0    150    100            1     1      0   \n",
       "4   4  17474       1     156    56.0    100     60            1     1      0   \n",
       "\n",
       "   alco  active  cardio  \n",
       "0     0       1       0  \n",
       "1     0       1       1  \n",
       "2     0       0       1  \n",
       "3     0       1       1  \n",
       "4     0       0       0  "
      ]
     },
     "execution_count": 2,
     "metadata": {},
     "output_type": "execute_result"
    }
   ],
   "source": [
    "df_cardio = pd.read_csv(\"train_case2.csv\", ';')\n",
    "df_cardio.head()"
   ]
  },
  {
   "cell_type": "code",
   "execution_count": 3,
   "id": "916b8d42",
   "metadata": {},
   "outputs": [
    {
     "data": {
      "text/plain": [
       "0    35021\n",
       "1    34979\n",
       "Name: cardio, dtype: int64"
      ]
     },
     "execution_count": 3,
     "metadata": {},
     "output_type": "execute_result"
    }
   ],
   "source": [
    "df_cardio['cardio'].value_counts()"
   ]
  },
  {
   "cell_type": "markdown",
   "id": "23824227",
   "metadata": {},
   "source": [
    "Разделим данные на train/test и сохраним тестовую выборку на диск"
   ]
  },
  {
   "cell_type": "code",
   "execution_count": 4,
   "id": "27167f25",
   "metadata": {},
   "outputs": [],
   "source": [
    "#разделим данные на train/test\n",
    "X_train, X_test, y_train, y_test = train_test_split(df_cardio.drop('cardio', 1), \n",
    "                                                    df_cardio['cardio'], random_state=0)\n",
    "\n",
    "# save test\n",
    "X_test.to_csv(\"X_test.csv\", index=None)\n",
    "y_test.to_csv(\"y_test.csv\", index=None)\n",
    "\n",
    "# save train\n",
    "X_train.to_csv(\"X_train.csv\", index=None)\n",
    "y_train.to_csv(\"y_train.csv\", index=None)"
   ]
  },
  {
   "cell_type": "markdown",
   "id": "d2b859de",
   "metadata": {},
   "source": [
    "К полям:\n",
    "- age, weight, ap_lo - standardScaler"
   ]
  },
  {
   "cell_type": "code",
   "execution_count": 24,
   "id": "97b81c61",
   "metadata": {},
   "outputs": [],
   "source": [
    "class ColumnSelector(BaseEstimator, TransformerMixin):\n",
    "    \"\"\"\n",
    "    Transformer to select a single column from the data frame to perform additional transformations on\n",
    "    \"\"\"\n",
    "    def __init__(self, key):\n",
    "        self.key = key\n",
    "\n",
    "    def fit(self, X, y=None):\n",
    "        return self\n",
    "\n",
    "    def transform(self, X):\n",
    "        return X[self.key]\n",
    "    \n",
    "class NumberSelector(BaseEstimator, TransformerMixin):\n",
    "    \"\"\"\n",
    "    Transformer to select a single column from the data frame to perform additional transformations on\n",
    "    Use on numeric columns in the data\n",
    "    \"\"\"\n",
    "    def __init__(self, key):\n",
    "        self.key = key\n",
    "\n",
    "    def fit(self, X, y=None):\n",
    "        return self\n",
    "\n",
    "    def transform(self, X):\n",
    "        return X[[self.key]]"
   ]
  },
  {
   "cell_type": "code",
   "execution_count": 6,
   "id": "885ae5be",
   "metadata": {},
   "outputs": [],
   "source": [
    "features = ['age', 'weight', 'ap_lo']\n",
    "target = 'cardio'"
   ]
  },
  {
   "cell_type": "markdown",
   "id": "6bf9fad2",
   "metadata": {},
   "source": [
    "Feature engineering"
   ]
  },
  {
   "cell_type": "code",
   "execution_count": 8,
   "id": "36dc459e",
   "metadata": {},
   "outputs": [],
   "source": [
    "continuos_transformers = []\n",
    "for cont_col in features:\n",
    "    transfomer =  Pipeline([\n",
    "                ('selector', NumberSelector(key=cont_col)),\n",
    "                ('standard', StandardScaler())\n",
    "            ])\n",
    "    continuos_transformers.append((cont_col, transfomer))   "
   ]
  },
  {
   "cell_type": "code",
   "execution_count": 9,
   "id": "86b60364",
   "metadata": {},
   "outputs": [],
   "source": [
    "feats = FeatureUnion(continuos_transformers)"
   ]
  },
  {
   "cell_type": "markdown",
   "id": "ec319226",
   "metadata": {},
   "source": [
    "Добавим простейший классификатор"
   ]
  },
  {
   "cell_type": "code",
   "execution_count": 10,
   "id": "d8bcd958",
   "metadata": {},
   "outputs": [
    {
     "name": "stdout",
     "output_type": "stream",
     "text": [
      "CPU times: total: 188 ms\n",
      "Wall time: 114 ms\n"
     ]
    },
    {
     "data": {
      "text/plain": [
       "Pipeline(steps=[('features',\n",
       "                 FeatureUnion(transformer_list=[('age',\n",
       "                                                 Pipeline(steps=[('selector',\n",
       "                                                                  NumberSelector(key='age')),\n",
       "                                                                 ('standard',\n",
       "                                                                  StandardScaler())])),\n",
       "                                                ('weight',\n",
       "                                                 Pipeline(steps=[('selector',\n",
       "                                                                  NumberSelector(key='weight')),\n",
       "                                                                 ('standard',\n",
       "                                                                  StandardScaler())])),\n",
       "                                                ('ap_lo',\n",
       "                                                 Pipeline(steps=[('selector',\n",
       "                                                                  NumberSelector(key='ap_lo')),\n",
       "                                                                 ('standard',\n",
       "                                                                  StandardScaler())]))])),\n",
       "                ('classifier', LogisticRegression())])"
      ]
     },
     "execution_count": 10,
     "metadata": {},
     "output_type": "execute_result"
    }
   ],
   "source": [
    "%%time\n",
    "\n",
    "pipeline = Pipeline([\n",
    "    ('features', feats),\n",
    "    ('classifier', LogisticRegression()),\n",
    "])\n",
    "\n",
    "pipeline.fit(X_train, y_train)"
   ]
  },
  {
   "cell_type": "markdown",
   "id": "5c11219e",
   "metadata": {},
   "source": [
    "Посмотрим, как выглядит наш pipeline"
   ]
  },
  {
   "cell_type": "code",
   "execution_count": 11,
   "id": "d8bdf831",
   "metadata": {},
   "outputs": [
    {
     "data": {
      "text/plain": [
       "[('features',\n",
       "  FeatureUnion(transformer_list=[('age',\n",
       "                                  Pipeline(steps=[('selector',\n",
       "                                                   NumberSelector(key='age')),\n",
       "                                                  ('standard',\n",
       "                                                   StandardScaler())])),\n",
       "                                 ('weight',\n",
       "                                  Pipeline(steps=[('selector',\n",
       "                                                   NumberSelector(key='weight')),\n",
       "                                                  ('standard',\n",
       "                                                   StandardScaler())])),\n",
       "                                 ('ap_lo',\n",
       "                                  Pipeline(steps=[('selector',\n",
       "                                                   NumberSelector(key='ap_lo')),\n",
       "                                                  ('standard',\n",
       "                                                   StandardScaler())]))])),\n",
       " ('classifier', LogisticRegression())]"
      ]
     },
     "execution_count": 11,
     "metadata": {},
     "output_type": "execute_result"
    }
   ],
   "source": [
    "pipeline.steps"
   ]
  },
  {
   "cell_type": "markdown",
   "id": "3f3b5bd6",
   "metadata": {},
   "source": [
    "Сохраним модель (пайплайн)"
   ]
  },
  {
   "cell_type": "code",
   "execution_count": 12,
   "id": "d77fde8e",
   "metadata": {},
   "outputs": [],
   "source": [
    "with open(\"logreg_pipeline.dill\", \"wb\") as f:\n",
    "    dill.dump(pipeline, f)"
   ]
  },
  {
   "cell_type": "markdown",
   "id": "27f0606d",
   "metadata": {},
   "source": [
    "### Step 2 - PREDICT"
   ]
  },
  {
   "cell_type": "markdown",
   "id": "9d6d53f5",
   "metadata": {},
   "source": [
    "### Проверка работоспособности и качества пайплайна\n",
    "\n",
    "Загружаем модель (pipeline) напрямую и проверяем на отложенной (тестовой) выборке"
   ]
  },
  {
   "cell_type": "code",
   "execution_count": 13,
   "id": "12575958",
   "metadata": {},
   "outputs": [],
   "source": [
    "X_test = pd.read_csv(\"X_test.csv\")\n",
    "y_test = pd.read_csv(\"y_test.csv\")"
   ]
  },
  {
   "cell_type": "code",
   "execution_count": 14,
   "id": "c1765005",
   "metadata": {},
   "outputs": [
    {
     "data": {
      "text/html": [
       "<div>\n",
       "<style scoped>\n",
       "    .dataframe tbody tr th:only-of-type {\n",
       "        vertical-align: middle;\n",
       "    }\n",
       "\n",
       "    .dataframe tbody tr th {\n",
       "        vertical-align: top;\n",
       "    }\n",
       "\n",
       "    .dataframe thead th {\n",
       "        text-align: right;\n",
       "    }\n",
       "</style>\n",
       "<table border=\"1\" class=\"dataframe\">\n",
       "  <thead>\n",
       "    <tr style=\"text-align: right;\">\n",
       "      <th></th>\n",
       "      <th>id</th>\n",
       "      <th>age</th>\n",
       "      <th>gender</th>\n",
       "      <th>height</th>\n",
       "      <th>weight</th>\n",
       "      <th>ap_hi</th>\n",
       "      <th>ap_lo</th>\n",
       "      <th>cholesterol</th>\n",
       "      <th>gluc</th>\n",
       "      <th>smoke</th>\n",
       "      <th>alco</th>\n",
       "      <th>active</th>\n",
       "    </tr>\n",
       "  </thead>\n",
       "  <tbody>\n",
       "    <tr>\n",
       "      <th>0</th>\n",
       "      <td>15505</td>\n",
       "      <td>15216</td>\n",
       "      <td>1</td>\n",
       "      <td>165</td>\n",
       "      <td>61.0</td>\n",
       "      <td>120</td>\n",
       "      <td>80</td>\n",
       "      <td>1</td>\n",
       "      <td>1</td>\n",
       "      <td>0</td>\n",
       "      <td>0</td>\n",
       "      <td>1</td>\n",
       "    </tr>\n",
       "    <tr>\n",
       "      <th>1</th>\n",
       "      <td>80282</td>\n",
       "      <td>19815</td>\n",
       "      <td>1</td>\n",
       "      <td>164</td>\n",
       "      <td>54.0</td>\n",
       "      <td>110</td>\n",
       "      <td>80</td>\n",
       "      <td>1</td>\n",
       "      <td>1</td>\n",
       "      <td>0</td>\n",
       "      <td>0</td>\n",
       "      <td>1</td>\n",
       "    </tr>\n",
       "    <tr>\n",
       "      <th>2</th>\n",
       "      <td>21224</td>\n",
       "      <td>20563</td>\n",
       "      <td>1</td>\n",
       "      <td>170</td>\n",
       "      <td>69.0</td>\n",
       "      <td>120</td>\n",
       "      <td>80</td>\n",
       "      <td>1</td>\n",
       "      <td>1</td>\n",
       "      <td>0</td>\n",
       "      <td>0</td>\n",
       "      <td>1</td>\n",
       "    </tr>\n",
       "  </tbody>\n",
       "</table>\n",
       "</div>"
      ],
      "text/plain": [
       "      id    age  gender  height  weight  ap_hi  ap_lo  cholesterol  gluc  \\\n",
       "0  15505  15216       1     165    61.0    120     80            1     1   \n",
       "1  80282  19815       1     164    54.0    110     80            1     1   \n",
       "2  21224  20563       1     170    69.0    120     80            1     1   \n",
       "\n",
       "   smoke  alco  active  \n",
       "0      0     0       1  \n",
       "1      0     0       1  \n",
       "2      0     0       1  "
      ]
     },
     "execution_count": 14,
     "metadata": {},
     "output_type": "execute_result"
    }
   ],
   "source": [
    "X_test.head(3)"
   ]
  },
  {
   "cell_type": "code",
   "execution_count": 15,
   "id": "ceed55cb",
   "metadata": {},
   "outputs": [],
   "source": [
    "with open('logreg_pipeline.dill', 'rb') as in_strm:\n",
    "    pipeline = dill.load(in_strm)"
   ]
  },
  {
   "cell_type": "code",
   "execution_count": 16,
   "id": "494edcd9",
   "metadata": {},
   "outputs": [
    {
     "data": {
      "text/plain": [
       "Pipeline(steps=[('features',\n",
       "                 FeatureUnion(transformer_list=[('age',\n",
       "                                                 Pipeline(steps=[('selector',\n",
       "                                                                  NumberSelector(key='age')),\n",
       "                                                                 ('standard',\n",
       "                                                                  StandardScaler())])),\n",
       "                                                ('weight',\n",
       "                                                 Pipeline(steps=[('selector',\n",
       "                                                                  NumberSelector(key='weight')),\n",
       "                                                                 ('standard',\n",
       "                                                                  StandardScaler())])),\n",
       "                                                ('ap_lo',\n",
       "                                                 Pipeline(steps=[('selector',\n",
       "                                                                  NumberSelector(key='ap_lo')),\n",
       "                                                                 ('standard',\n",
       "                                                                  StandardScaler())]))])),\n",
       "                ('classifier', LogisticRegression())])"
      ]
     },
     "execution_count": 16,
     "metadata": {},
     "output_type": "execute_result"
    }
   ],
   "source": [
    "pipeline"
   ]
  },
  {
   "cell_type": "code",
   "execution_count": 17,
   "id": "3e52003e",
   "metadata": {},
   "outputs": [],
   "source": [
    "preds = pipeline.predict_proba(X_test)[:, 1]\n",
    "\n",
    "pred_df = pd.DataFrame({'preds': preds})\n",
    "pred_df.to_csv(\"test_predictions.csv\", index=None)"
   ]
  },
  {
   "cell_type": "code",
   "execution_count": 18,
   "id": "91b501cb",
   "metadata": {},
   "outputs": [
    {
     "name": "stdout",
     "output_type": "stream",
     "text": [
      "Best Threshold=0.33737761192972876, F-Score=0.684, Precision=0.546, Recall=0.915\n"
     ]
    }
   ],
   "source": [
    "precision, recall, thresholds = precision_recall_curve(y_test, preds)\n",
    "\n",
    "fscore = (2 * precision * recall) / (precision + recall)\n",
    "# locate the index of the largest f score\n",
    "ix = np.argmax(fscore)\n",
    "print(f'Best Threshold={thresholds[ix]}, F-Score={fscore[ix]:.3f}, Precision={precision[ix]:.3f}, Recall={recall[ix]:.3f}')"
   ]
  },
  {
   "cell_type": "markdown",
   "id": "ab911bd5",
   "metadata": {},
   "source": [
    "### Step 3 - FLASK"
   ]
  },
  {
   "cell_type": "code",
   "execution_count": 19,
   "id": "0f6c9fac",
   "metadata": {},
   "outputs": [
    {
     "name": "stdout",
     "output_type": "stream",
     "text": [
      " * Serving Flask app \"__main__\" (lazy loading)\n",
      " * Environment: production\n",
      "\u001b[31m   WARNING: This is a development server. Do not use it in a production deployment.\u001b[0m\n",
      "\u001b[2m   Use a production WSGI server instead.\u001b[0m\n",
      " * Debug mode: off\n"
     ]
    },
    {
     "name": "stderr",
     "output_type": "stream",
     "text": [
      " * Running on http://127.0.0.1:8082/ (Press CTRL+C to quit)\n"
     ]
    }
   ],
   "source": [
    "# Пробный запуск Flask\n",
    "\n",
    "app = Flask(__name__)\n",
    "\n",
    "@app.route(\"/a\")\n",
    "def hello():\n",
    "    return \"Hello World!\"\n",
    "\n",
    "if __name__ == '__main__':\n",
    "    app.run(port=8082)"
   ]
  },
  {
   "cell_type": "markdown",
   "id": "958e772b",
   "metadata": {},
   "source": [
    "### **Создаем сервис для обработки запросов к модели**"
   ]
  },
  {
   "cell_type": "code",
   "execution_count": 20,
   "id": "9b4d7139",
   "metadata": {},
   "outputs": [],
   "source": [
    "# Загружаем обученные модели\n",
    "with open('logreg_pipeline.dill', 'rb') as in_strm:\n",
    "    model = dill.load(in_strm)"
   ]
  },
  {
   "cell_type": "code",
   "execution_count": 21,
   "id": "35d96804",
   "metadata": {},
   "outputs": [],
   "source": [
    "X_test = pd.read_csv(\"X_test.csv\")\n",
    "y_test = pd.read_csv(\"y_test.csv\")"
   ]
  },
  {
   "cell_type": "code",
   "execution_count": 22,
   "id": "69bbc363",
   "metadata": {},
   "outputs": [
    {
     "data": {
      "text/html": [
       "<div>\n",
       "<style scoped>\n",
       "    .dataframe tbody tr th:only-of-type {\n",
       "        vertical-align: middle;\n",
       "    }\n",
       "\n",
       "    .dataframe tbody tr th {\n",
       "        vertical-align: top;\n",
       "    }\n",
       "\n",
       "    .dataframe thead th {\n",
       "        text-align: right;\n",
       "    }\n",
       "</style>\n",
       "<table border=\"1\" class=\"dataframe\">\n",
       "  <thead>\n",
       "    <tr style=\"text-align: right;\">\n",
       "      <th></th>\n",
       "      <th>id</th>\n",
       "      <th>age</th>\n",
       "      <th>gender</th>\n",
       "      <th>height</th>\n",
       "      <th>weight</th>\n",
       "      <th>ap_hi</th>\n",
       "      <th>ap_lo</th>\n",
       "      <th>cholesterol</th>\n",
       "      <th>gluc</th>\n",
       "      <th>smoke</th>\n",
       "      <th>alco</th>\n",
       "      <th>active</th>\n",
       "    </tr>\n",
       "  </thead>\n",
       "  <tbody>\n",
       "    <tr>\n",
       "      <th>0</th>\n",
       "      <td>15505</td>\n",
       "      <td>15216</td>\n",
       "      <td>1</td>\n",
       "      <td>165</td>\n",
       "      <td>61.0</td>\n",
       "      <td>120</td>\n",
       "      <td>80</td>\n",
       "      <td>1</td>\n",
       "      <td>1</td>\n",
       "      <td>0</td>\n",
       "      <td>0</td>\n",
       "      <td>1</td>\n",
       "    </tr>\n",
       "    <tr>\n",
       "      <th>1</th>\n",
       "      <td>80282</td>\n",
       "      <td>19815</td>\n",
       "      <td>1</td>\n",
       "      <td>164</td>\n",
       "      <td>54.0</td>\n",
       "      <td>110</td>\n",
       "      <td>80</td>\n",
       "      <td>1</td>\n",
       "      <td>1</td>\n",
       "      <td>0</td>\n",
       "      <td>0</td>\n",
       "      <td>1</td>\n",
       "    </tr>\n",
       "    <tr>\n",
       "      <th>2</th>\n",
       "      <td>21224</td>\n",
       "      <td>20563</td>\n",
       "      <td>1</td>\n",
       "      <td>170</td>\n",
       "      <td>69.0</td>\n",
       "      <td>120</td>\n",
       "      <td>80</td>\n",
       "      <td>1</td>\n",
       "      <td>1</td>\n",
       "      <td>0</td>\n",
       "      <td>0</td>\n",
       "      <td>1</td>\n",
       "    </tr>\n",
       "    <tr>\n",
       "      <th>3</th>\n",
       "      <td>89571</td>\n",
       "      <td>16625</td>\n",
       "      <td>1</td>\n",
       "      <td>167</td>\n",
       "      <td>57.0</td>\n",
       "      <td>110</td>\n",
       "      <td>70</td>\n",
       "      <td>1</td>\n",
       "      <td>1</td>\n",
       "      <td>0</td>\n",
       "      <td>0</td>\n",
       "      <td>1</td>\n",
       "    </tr>\n",
       "    <tr>\n",
       "      <th>4</th>\n",
       "      <td>67392</td>\n",
       "      <td>14451</td>\n",
       "      <td>1</td>\n",
       "      <td>158</td>\n",
       "      <td>110.0</td>\n",
       "      <td>120</td>\n",
       "      <td>80</td>\n",
       "      <td>1</td>\n",
       "      <td>1</td>\n",
       "      <td>0</td>\n",
       "      <td>0</td>\n",
       "      <td>0</td>\n",
       "    </tr>\n",
       "    <tr>\n",
       "      <th>...</th>\n",
       "      <td>...</td>\n",
       "      <td>...</td>\n",
       "      <td>...</td>\n",
       "      <td>...</td>\n",
       "      <td>...</td>\n",
       "      <td>...</td>\n",
       "      <td>...</td>\n",
       "      <td>...</td>\n",
       "      <td>...</td>\n",
       "      <td>...</td>\n",
       "      <td>...</td>\n",
       "      <td>...</td>\n",
       "    </tr>\n",
       "    <tr>\n",
       "      <th>17495</th>\n",
       "      <td>65913</td>\n",
       "      <td>19616</td>\n",
       "      <td>1</td>\n",
       "      <td>165</td>\n",
       "      <td>63.0</td>\n",
       "      <td>120</td>\n",
       "      <td>80</td>\n",
       "      <td>2</td>\n",
       "      <td>2</td>\n",
       "      <td>0</td>\n",
       "      <td>0</td>\n",
       "      <td>0</td>\n",
       "    </tr>\n",
       "    <tr>\n",
       "      <th>17496</th>\n",
       "      <td>8133</td>\n",
       "      <td>21149</td>\n",
       "      <td>1</td>\n",
       "      <td>153</td>\n",
       "      <td>54.0</td>\n",
       "      <td>120</td>\n",
       "      <td>80</td>\n",
       "      <td>1</td>\n",
       "      <td>1</td>\n",
       "      <td>0</td>\n",
       "      <td>0</td>\n",
       "      <td>1</td>\n",
       "    </tr>\n",
       "    <tr>\n",
       "      <th>17497</th>\n",
       "      <td>97894</td>\n",
       "      <td>15972</td>\n",
       "      <td>2</td>\n",
       "      <td>172</td>\n",
       "      <td>64.0</td>\n",
       "      <td>110</td>\n",
       "      <td>70</td>\n",
       "      <td>1</td>\n",
       "      <td>1</td>\n",
       "      <td>0</td>\n",
       "      <td>0</td>\n",
       "      <td>1</td>\n",
       "    </tr>\n",
       "    <tr>\n",
       "      <th>17498</th>\n",
       "      <td>21541</td>\n",
       "      <td>18814</td>\n",
       "      <td>1</td>\n",
       "      <td>156</td>\n",
       "      <td>63.0</td>\n",
       "      <td>130</td>\n",
       "      <td>90</td>\n",
       "      <td>3</td>\n",
       "      <td>1</td>\n",
       "      <td>0</td>\n",
       "      <td>1</td>\n",
       "      <td>0</td>\n",
       "    </tr>\n",
       "    <tr>\n",
       "      <th>17499</th>\n",
       "      <td>23690</td>\n",
       "      <td>19795</td>\n",
       "      <td>1</td>\n",
       "      <td>169</td>\n",
       "      <td>65.0</td>\n",
       "      <td>140</td>\n",
       "      <td>90</td>\n",
       "      <td>3</td>\n",
       "      <td>3</td>\n",
       "      <td>0</td>\n",
       "      <td>0</td>\n",
       "      <td>1</td>\n",
       "    </tr>\n",
       "  </tbody>\n",
       "</table>\n",
       "<p>17500 rows × 12 columns</p>\n",
       "</div>"
      ],
      "text/plain": [
       "          id    age  gender  height  weight  ap_hi  ap_lo  cholesterol  gluc  \\\n",
       "0      15505  15216       1     165    61.0    120     80            1     1   \n",
       "1      80282  19815       1     164    54.0    110     80            1     1   \n",
       "2      21224  20563       1     170    69.0    120     80            1     1   \n",
       "3      89571  16625       1     167    57.0    110     70            1     1   \n",
       "4      67392  14451       1     158   110.0    120     80            1     1   \n",
       "...      ...    ...     ...     ...     ...    ...    ...          ...   ...   \n",
       "17495  65913  19616       1     165    63.0    120     80            2     2   \n",
       "17496   8133  21149       1     153    54.0    120     80            1     1   \n",
       "17497  97894  15972       2     172    64.0    110     70            1     1   \n",
       "17498  21541  18814       1     156    63.0    130     90            3     1   \n",
       "17499  23690  19795       1     169    65.0    140     90            3     3   \n",
       "\n",
       "       smoke  alco  active  \n",
       "0          0     0       1  \n",
       "1          0     0       1  \n",
       "2          0     0       1  \n",
       "3          0     0       1  \n",
       "4          0     0       0  \n",
       "...      ...   ...     ...  \n",
       "17495      0     0       0  \n",
       "17496      0     0       1  \n",
       "17497      0     0       1  \n",
       "17498      0     1       0  \n",
       "17499      0     0       1  \n",
       "\n",
       "[17500 rows x 12 columns]"
      ]
     },
     "execution_count": 22,
     "metadata": {},
     "output_type": "execute_result"
    }
   ],
   "source": [
    "X_test"
   ]
  },
  {
   "cell_type": "markdown",
   "id": "24f336dd",
   "metadata": {},
   "source": [
    "Запускаем сервер и работаем с ним"
   ]
  },
  {
   "cell_type": "code",
   "execution_count": 23,
   "id": "e2a02ac5",
   "metadata": {},
   "outputs": [
    {
     "name": "stdout",
     "output_type": "stream",
     "text": [
      " * Serving Flask app \"__main__\" (lazy loading)\n",
      " * Environment: production\n",
      "\u001b[31m   WARNING: This is a development server. Do not use it in a production deployment.\u001b[0m\n",
      "\u001b[2m   Use a production WSGI server instead.\u001b[0m\n",
      " * Debug mode: off\n"
     ]
    },
    {
     "name": "stderr",
     "output_type": "stream",
     "text": [
      " * Running on http://127.0.0.1:8082/ (Press CTRL+C to quit)\n",
      "127.0.0.1 - - [01/Jan/2024 21:49:55] \"GET / HTTP/1.1\" 200 -\n",
      "127.0.0.1 - - [01/Jan/2024 21:52:21] \"POST //predict HTTP/1.1\" 200 -\n"
     ]
    },
    {
     "name": "stdout",
     "output_type": "stream",
     "text": [
      "19810\n",
      "OK\n"
     ]
    },
    {
     "name": "stderr",
     "output_type": "stream",
     "text": [
      "127.0.0.1 - - [01/Jan/2024 21:52:35] \"POST //predict HTTP/1.1\" 200 -\n"
     ]
    },
    {
     "name": "stdout",
     "output_type": "stream",
     "text": [
      "19815.0\n",
      "OK\n"
     ]
    },
    {
     "name": "stderr",
     "output_type": "stream",
     "text": [
      "127.0.0.1 - - [01/Jan/2024 21:52:42] \"POST //predict HTTP/1.1\" 200 -\n",
      "127.0.0.1 - - [01/Jan/2024 21:52:42] \"POST //predict HTTP/1.1\" 200 -\n",
      "127.0.0.1 - - [01/Jan/2024 21:52:42] \"POST //predict HTTP/1.1\" 200 -\n",
      "127.0.0.1 - - [01/Jan/2024 21:52:42] \"POST //predict HTTP/1.1\" 200 -\n",
      "127.0.0.1 - - [01/Jan/2024 21:52:42] \"POST //predict HTTP/1.1\" 200 -\n",
      "127.0.0.1 - - [01/Jan/2024 21:52:42] \"POST //predict HTTP/1.1\" 200 -\n",
      "127.0.0.1 - - [01/Jan/2024 21:52:42] \"POST //predict HTTP/1.1\" 200 -\n"
     ]
    },
    {
     "name": "stdout",
     "output_type": "stream",
     "text": [
      "15216.0\n",
      "OK\n",
      "19815.0\n",
      "OK\n",
      "20563.0\n",
      "OK\n",
      "16625.0\n",
      "OK\n",
      "14451.0\n",
      "OK\n",
      "18976.0\n",
      "OK\n",
      "16123.0\n",
      "OK\n",
      "19646.0\n",
      "OK"
     ]
    },
    {
     "name": "stderr",
     "output_type": "stream",
     "text": [
      "127.0.0.1 - - [01/Jan/2024 21:52:42] \"POST //predict HTTP/1.1\" 200 -\n",
      "127.0.0.1 - - [01/Jan/2024 21:52:42] \"POST //predict HTTP/1.1\" 200 -\n",
      "127.0.0.1 - - [01/Jan/2024 21:52:42] \"POST //predict HTTP/1.1\" 200 -\n",
      "127.0.0.1 - - [01/Jan/2024 21:52:42] \"POST //predict HTTP/1.1\" 200 -\n",
      "127.0.0.1 - - [01/Jan/2024 21:52:42] \"POST //predict HTTP/1.1\" 200 -\n",
      "127.0.0.1 - - [01/Jan/2024 21:52:42] \"POST //predict HTTP/1.1\" 200 -\n",
      "127.0.0.1 - - [01/Jan/2024 21:52:42] \"POST //predict HTTP/1.1\" 200 -\n"
     ]
    },
    {
     "name": "stdout",
     "output_type": "stream",
     "text": [
      "\n",
      "21316.0\n",
      "OK\n",
      "15529.0\n",
      "OK\n",
      "18735.0\n",
      "OK\n",
      "19691.0\n",
      "OK\n",
      "18762.0\n",
      "OK\n",
      "21313.0\n",
      "OK\n",
      "21685.0\n",
      "OK"
     ]
    },
    {
     "name": "stderr",
     "output_type": "stream",
     "text": [
      "127.0.0.1 - - [01/Jan/2024 21:52:42] \"POST //predict HTTP/1.1\" 200 -\n",
      "127.0.0.1 - - [01/Jan/2024 21:52:42] \"POST //predict HTTP/1.1\" 200 -\n",
      "127.0.0.1 - - [01/Jan/2024 21:52:42] \"POST //predict HTTP/1.1\" 200 -\n",
      "127.0.0.1 - - [01/Jan/2024 21:52:42] \"POST //predict HTTP/1.1\" 200 -\n",
      "127.0.0.1 - - [01/Jan/2024 21:52:42] \"POST //predict HTTP/1.1\" 200 -\n"
     ]
    },
    {
     "name": "stdout",
     "output_type": "stream",
     "text": [
      "\n",
      "21921.0\n",
      "OK\n",
      "23190.0\n",
      "OK\n",
      "18207.0\n",
      "OK\n",
      "18321.0\n",
      "OK\n",
      "14698.0\n"
     ]
    },
    {
     "name": "stderr",
     "output_type": "stream",
     "text": [
      "127.0.0.1 - - [01/Jan/2024 21:52:43] \"POST //predict HTTP/1.1\" 200 -\n",
      "127.0.0.1 - - [01/Jan/2024 21:52:43] \"POST //predict HTTP/1.1\" 200 -\n",
      "127.0.0.1 - - [01/Jan/2024 21:52:43] \"POST //predict HTTP/1.1\" 200 -\n",
      "127.0.0.1 - - [01/Jan/2024 21:52:43] \"POST //predict HTTP/1.1\" 200 -\n",
      "127.0.0.1 - - [01/Jan/2024 21:52:43] \"POST //predict HTTP/1.1\" 200 -\n",
      "127.0.0.1 - - [01/Jan/2024 21:52:43] \"POST //predict HTTP/1.1\" 200 -\n"
     ]
    },
    {
     "name": "stdout",
     "output_type": "stream",
     "text": [
      "OK\n",
      "20974.0\n",
      "OK\n",
      "14529.0\n",
      "OK\n",
      "15485.0\n",
      "OK\n",
      "16935.0\n",
      "OK\n",
      "18993.0\n",
      "OK\n",
      "23361.0\n",
      "OK"
     ]
    },
    {
     "name": "stderr",
     "output_type": "stream",
     "text": [
      "127.0.0.1 - - [01/Jan/2024 21:52:43] \"POST //predict HTTP/1.1\" 200 -\n",
      "127.0.0.1 - - [01/Jan/2024 21:52:43] \"POST //predict HTTP/1.1\" 200 -\n",
      "127.0.0.1 - - [01/Jan/2024 21:52:43] \"POST //predict HTTP/1.1\" 200 -\n",
      "127.0.0.1 - - [01/Jan/2024 21:52:43] \"POST //predict HTTP/1.1\" 200 -\n",
      "127.0.0.1 - - [01/Jan/2024 21:52:43] \"POST //predict HTTP/1.1\" 200 -\n",
      "127.0.0.1 - - [01/Jan/2024 21:52:43] \"POST //predict HTTP/1.1\" 200 -\n",
      "127.0.0.1 - - [01/Jan/2024 21:52:43] \"POST //predict HTTP/1.1\" 200 -\n",
      "127.0.0.1 - - [01/Jan/2024 21:52:43] \"POST //predict HTTP/1.1\" 200 -\n"
     ]
    },
    {
     "name": "stdout",
     "output_type": "stream",
     "text": [
      "\n",
      "19073.0\n",
      "OK\n",
      "20491.0\n",
      "OK\n",
      "17443.0\n",
      "OK\n",
      "20570.0\n",
      "OK\n",
      "19502.0\n",
      "OK\n",
      "18127.0\n",
      "OK\n",
      "22367.0\n",
      "OK\n",
      "20187.0"
     ]
    },
    {
     "name": "stderr",
     "output_type": "stream",
     "text": [
      "127.0.0.1 - - [01/Jan/2024 21:52:43] \"POST //predict HTTP/1.1\" 200 -\n",
      "127.0.0.1 - - [01/Jan/2024 21:52:43] \"POST //predict HTTP/1.1\" 200 -\n",
      "127.0.0.1 - - [01/Jan/2024 21:52:43] \"POST //predict HTTP/1.1\" 200 -\n",
      "127.0.0.1 - - [01/Jan/2024 21:52:43] \"POST //predict HTTP/1.1\" 200 -\n",
      "127.0.0.1 - - [01/Jan/2024 21:52:43] \"POST //predict HTTP/1.1\" 200 -\n",
      "127.0.0.1 - - [01/Jan/2024 21:52:43] \"POST //predict HTTP/1.1\" 200 -\n",
      "127.0.0.1 - - [01/Jan/2024 21:52:43] \"POST //predict HTTP/1.1\" 200 -\n",
      "127.0.0.1 - - [01/Jan/2024 21:52:43] \"POST //predict HTTP/1.1\" 200 -\n"
     ]
    },
    {
     "name": "stdout",
     "output_type": "stream",
     "text": [
      "\n",
      "OK\n",
      "19523.0\n",
      "OK\n",
      "14607.0\n",
      "OK\n",
      "21297.0\n",
      "OK\n",
      "18010.0\n",
      "OK\n",
      "15966.0\n",
      "OK\n",
      "23620.0\n",
      "OK\n",
      "21198.0\n",
      "OK\n"
     ]
    },
    {
     "name": "stderr",
     "output_type": "stream",
     "text": [
      "127.0.0.1 - - [01/Jan/2024 21:52:43] \"POST //predict HTTP/1.1\" 200 -\n",
      "127.0.0.1 - - [01/Jan/2024 21:52:43] \"POST //predict HTTP/1.1\" 200 -\n",
      "127.0.0.1 - - [01/Jan/2024 21:52:43] \"POST //predict HTTP/1.1\" 200 -\n",
      "127.0.0.1 - - [01/Jan/2024 21:52:43] \"POST //predict HTTP/1.1\" 200 -\n",
      "127.0.0.1 - - [01/Jan/2024 21:52:43] \"POST //predict HTTP/1.1\" 200 -\n",
      "127.0.0.1 - - [01/Jan/2024 21:52:43] \"POST //predict HTTP/1.1\" 200 -\n",
      "127.0.0.1 - - [01/Jan/2024 21:52:43] \"POST //predict HTTP/1.1\" 200 -\n"
     ]
    },
    {
     "name": "stdout",
     "output_type": "stream",
     "text": [
      "21210.0\n",
      "OK\n",
      "23328.0\n",
      "OK\n",
      "19975.0\n",
      "OK\n",
      "20664.0\n",
      "OK\n",
      "17522.0\n",
      "OK\n",
      "22485.0\n",
      "OK\n",
      "21307.0\n",
      "OK\n",
      "15983.0"
     ]
    },
    {
     "name": "stderr",
     "output_type": "stream",
     "text": [
      "127.0.0.1 - - [01/Jan/2024 21:52:43] \"POST //predict HTTP/1.1\" 200 -\n",
      "127.0.0.1 - - [01/Jan/2024 21:52:43] \"POST //predict HTTP/1.1\" 200 -\n",
      "127.0.0.1 - - [01/Jan/2024 21:52:43] \"POST //predict HTTP/1.1\" 200 -\n",
      "127.0.0.1 - - [01/Jan/2024 21:52:43] \"POST //predict HTTP/1.1\" 200 -\n",
      "127.0.0.1 - - [01/Jan/2024 21:52:43] \"POST //predict HTTP/1.1\" 200 -\n",
      "127.0.0.1 - - [01/Jan/2024 21:52:43] \"POST //predict HTTP/1.1\" 200 -\n",
      "127.0.0.1 - - [01/Jan/2024 21:52:43] \"POST //predict HTTP/1.1\" 200 -\n",
      "127.0.0.1 - - [01/Jan/2024 21:52:44] \"POST //predict HTTP/1.1\" 200 -\n"
     ]
    },
    {
     "name": "stdout",
     "output_type": "stream",
     "text": [
      "\n",
      "OK\n",
      "18329.0\n",
      "OK\n",
      "18172.0\n",
      "OK\n",
      "21067.0\n",
      "OK\n",
      "17764.0\n",
      "OK\n",
      "20468.0\n",
      "OK\n",
      "18219.0\n",
      "OK\n",
      "20316.0\n",
      "OK\n",
      "21051.0"
     ]
    },
    {
     "name": "stderr",
     "output_type": "stream",
     "text": [
      "127.0.0.1 - - [01/Jan/2024 21:52:44] \"POST //predict HTTP/1.1\" 200 -\n",
      "127.0.0.1 - - [01/Jan/2024 21:52:44] \"POST //predict HTTP/1.1\" 200 -\n",
      "127.0.0.1 - - [01/Jan/2024 21:52:44] \"POST //predict HTTP/1.1\" 200 -\n",
      "127.0.0.1 - - [01/Jan/2024 21:52:44] \"POST //predict HTTP/1.1\" 200 -\n",
      "127.0.0.1 - - [01/Jan/2024 21:52:44] \"POST //predict HTTP/1.1\" 200 -\n",
      "127.0.0.1 - - [01/Jan/2024 21:52:44] \"POST //predict HTTP/1.1\" 200 -\n",
      "127.0.0.1 - - [01/Jan/2024 21:52:44] \"POST //predict HTTP/1.1\" 200 -\n",
      "127.0.0.1 - - [01/Jan/2024 21:52:44] \"POST //predict HTTP/1.1\" 200 -\n"
     ]
    },
    {
     "name": "stdout",
     "output_type": "stream",
     "text": [
      "\n",
      "OK\n",
      "16691.0\n",
      "OK\n",
      "18332.0\n",
      "OK\n",
      "19932.0\n",
      "OK\n",
      "21846.0\n",
      "OK\n",
      "21922.0\n",
      "OK\n",
      "18705.0\n",
      "OK\n",
      "22566.0\n",
      "OK\n",
      "19706.0\n",
      "OK"
     ]
    },
    {
     "name": "stderr",
     "output_type": "stream",
     "text": [
      "127.0.0.1 - - [01/Jan/2024 21:52:44] \"POST //predict HTTP/1.1\" 200 -\n",
      "127.0.0.1 - - [01/Jan/2024 21:52:44] \"POST //predict HTTP/1.1\" 200 -\n",
      "127.0.0.1 - - [01/Jan/2024 21:52:44] \"POST //predict HTTP/1.1\" 200 -\n",
      "127.0.0.1 - - [01/Jan/2024 21:52:44] \"POST //predict HTTP/1.1\" 200 -\n",
      "127.0.0.1 - - [01/Jan/2024 21:52:44] \"POST //predict HTTP/1.1\" 200 -\n",
      "127.0.0.1 - - [01/Jan/2024 21:52:44] \"POST //predict HTTP/1.1\" 200 -\n",
      "127.0.0.1 - - [01/Jan/2024 21:52:44] \"POST //predict HTTP/1.1\" 200 -\n",
      "127.0.0.1 - - [01/Jan/2024 21:52:44] \"POST //predict HTTP/1.1\" 200 -\n"
     ]
    },
    {
     "name": "stdout",
     "output_type": "stream",
     "text": [
      "\n",
      "22812.0\n",
      "OK\n",
      "15456.0\n",
      "OK\n",
      "16729.0\n",
      "OK\n",
      "19038.0\n",
      "OK\n",
      "20990.0\n",
      "OK\n",
      "22698.0\n",
      "OK\n",
      "22026.0\n",
      "OK\n",
      "21298.0"
     ]
    },
    {
     "name": "stderr",
     "output_type": "stream",
     "text": [
      "127.0.0.1 - - [01/Jan/2024 21:52:44] \"POST //predict HTTP/1.1\" 200 -\n",
      "127.0.0.1 - - [01/Jan/2024 21:52:44] \"POST //predict HTTP/1.1\" 200 -\n",
      "127.0.0.1 - - [01/Jan/2024 21:52:44] \"POST //predict HTTP/1.1\" 200 -\n",
      "127.0.0.1 - - [01/Jan/2024 21:52:44] \"POST //predict HTTP/1.1\" 200 -\n",
      "127.0.0.1 - - [01/Jan/2024 21:52:44] \"POST //predict HTTP/1.1\" 200 -\n",
      "127.0.0.1 - - [01/Jan/2024 21:52:44] \"POST //predict HTTP/1.1\" 200 -\n",
      "127.0.0.1 - - [01/Jan/2024 21:52:44] \"POST //predict HTTP/1.1\" 200 -\n",
      "127.0.0.1 - - [01/Jan/2024 21:52:44] \"POST //predict HTTP/1.1\" 200 -\n"
     ]
    },
    {
     "name": "stdout",
     "output_type": "stream",
     "text": [
      "\n",
      "OK\n",
      "19687.0\n",
      "OK\n",
      "20413.0\n",
      "OK\n",
      "19781.0\n",
      "OK\n",
      "17557.0\n",
      "OK\n",
      "20714.0\n",
      "OK\n",
      "19019.0\n",
      "OK\n",
      "15910.0\n",
      "OK\n",
      "14504.0\n",
      "OK"
     ]
    },
    {
     "name": "stderr",
     "output_type": "stream",
     "text": [
      "127.0.0.1 - - [01/Jan/2024 21:52:44] \"POST //predict HTTP/1.1\" 200 -\n",
      "127.0.0.1 - - [01/Jan/2024 21:52:44] \"POST //predict HTTP/1.1\" 200 -\n",
      "127.0.0.1 - - [01/Jan/2024 21:52:44] \"POST //predict HTTP/1.1\" 200 -\n",
      "127.0.0.1 - - [01/Jan/2024 21:52:44] \"POST //predict HTTP/1.1\" 200 -\n",
      "127.0.0.1 - - [01/Jan/2024 21:52:44] \"POST //predict HTTP/1.1\" 200 -\n",
      "127.0.0.1 - - [01/Jan/2024 21:52:44] \"POST //predict HTTP/1.1\" 200 -\n",
      "127.0.0.1 - - [01/Jan/2024 21:52:44] \"POST //predict HTTP/1.1\" 200 -\n",
      "127.0.0.1 - - [01/Jan/2024 21:52:44] \"POST //predict HTTP/1.1\" 200 -\n"
     ]
    },
    {
     "name": "stdout",
     "output_type": "stream",
     "text": [
      "\n",
      "19532.0\n",
      "OK\n",
      "15214.0\n",
      "OK\n",
      "18882.0\n",
      "OK\n",
      "21807.0\n",
      "OK\n",
      "20724.0\n",
      "OK\n",
      "15226.0\n",
      "OK\n",
      "15109.0\n",
      "OK\n",
      "21333.0\n",
      "OK"
     ]
    },
    {
     "name": "stderr",
     "output_type": "stream",
     "text": [
      "127.0.0.1 - - [01/Jan/2024 21:52:44] \"POST //predict HTTP/1.1\" 200 -\n",
      "127.0.0.1 - - [01/Jan/2024 21:52:44] \"POST //predict HTTP/1.1\" 200 -\n",
      "127.0.0.1 - - [01/Jan/2024 21:52:44] \"POST //predict HTTP/1.1\" 200 -\n",
      "127.0.0.1 - - [01/Jan/2024 21:52:44] \"POST //predict HTTP/1.1\" 200 -\n",
      "127.0.0.1 - - [01/Jan/2024 21:52:44] \"POST //predict HTTP/1.1\" 200 -\n",
      "127.0.0.1 - - [01/Jan/2024 21:52:44] \"POST //predict HTTP/1.1\" 200 -\n",
      "127.0.0.1 - - [01/Jan/2024 21:52:44] \"POST //predict HTTP/1.1\" 200 -\n"
     ]
    },
    {
     "name": "stdout",
     "output_type": "stream",
     "text": [
      "\n",
      "19054.0\n",
      "OK\n",
      "23391.0\n",
      "OK\n",
      "21763.0\n",
      "OK\n",
      "16834.0\n",
      "OK\n",
      "21373.0\n",
      "OK\n",
      "21852.0\n",
      "OK\n",
      "15435.0\n",
      "OK"
     ]
    },
    {
     "name": "stderr",
     "output_type": "stream",
     "text": [
      "127.0.0.1 - - [01/Jan/2024 21:52:44] \"POST //predict HTTP/1.1\" 200 -\n",
      "127.0.0.1 - - [01/Jan/2024 21:52:45] \"POST //predict HTTP/1.1\" 200 -\n",
      "127.0.0.1 - - [01/Jan/2024 21:52:45] \"POST //predict HTTP/1.1\" 200 -\n",
      "127.0.0.1 - - [01/Jan/2024 21:52:45] \"POST //predict HTTP/1.1\" 200 -\n",
      "127.0.0.1 - - [01/Jan/2024 21:52:45] \"POST //predict HTTP/1.1\" 200 -\n"
     ]
    },
    {
     "name": "stdout",
     "output_type": "stream",
     "text": [
      "\n",
      "21243.0\n",
      "OK\n",
      "20621.0\n",
      "OK\n",
      "18928.0\n",
      "OK\n",
      "21097.0\n",
      "OK\n"
     ]
    }
   ],
   "source": [
    "# Обработчики и запуск Flask\n",
    "app = Flask(__name__)\n",
    "\n",
    "@app.route(\"/\", methods=[\"GET\"])\n",
    "def general():\n",
    "    return \"Welcome to prediction process\"\n",
    "\n",
    "@app.route('/predict', methods=['POST'])\n",
    "def predict():\n",
    "    data = {\"success\": False}\n",
    "\n",
    "    # ensure an image was properly uploaded to our endpoint\n",
    "    age, weight, ap_lo   = 0, 0, 0\n",
    "\n",
    "    #active, gluc, alco, height\n",
    "\n",
    "    request_json = request.get_json()\n",
    "        \n",
    "    if request_json[\"age\"]:\n",
    "        age = request_json['age']\n",
    "                \n",
    "    if request_json[\"weight\"]:\n",
    "        weight = request_json['weight']\n",
    "    \n",
    "    if request_json[\"ap_lo\"]:\n",
    "        ap_lo = request_json['ap_lo']\n",
    "        \n",
    " #   if request_json[\"gluc\"]:\n",
    "  #      gluc = request_json['gluc']\n",
    "    \n",
    " #   if request_json[\"alco\"]:\n",
    " #       alco = request_json['alco']   \n",
    "        \n",
    "#    if request_json[\"height\"]:      \n",
    "#        height = request_json['height']    \n",
    "    \n",
    "    print(age)  \n",
    "    preds = model.predict_proba(pd.DataFrame({\"age\": [age],\n",
    "                                        \"weight\": [weight],\n",
    "                                        \"ap_lo\": [ap_lo]}))\n",
    "   #                                     \"height\": [height]\n",
    " #                                       \"gluc\": [gluc],\n",
    "  #                                      \"alco\": [alco],\n",
    "   #                                     \n",
    "    data[\"predictions\"] = preds[:, 1][0]\n",
    "    data[\"age\"] = age\n",
    "        # indicate that the request was a success\n",
    "    data[\"success\"] = True\n",
    "    print('OK')\n",
    "\n",
    "        # return the data dictionary as a JSON response\n",
    "    return jsonify(data)\n",
    "\n",
    "\n",
    "if __name__ == '__main__':\n",
    "    app.run(port=8082)"
   ]
  },
  {
   "cell_type": "code",
   "execution_count": null,
   "id": "70bfdaff",
   "metadata": {},
   "outputs": [],
   "source": [
    "years = totalDays//365\n",
    "years"
   ]
  }
 ],
 "metadata": {
  "kernelspec": {
   "display_name": "Python 3 (ipykernel)",
   "language": "python",
   "name": "python3"
  },
  "language_info": {
   "codemirror_mode": {
    "name": "ipython",
    "version": 3
   },
   "file_extension": ".py",
   "mimetype": "text/x-python",
   "name": "python",
   "nbconvert_exporter": "python",
   "pygments_lexer": "ipython3",
   "version": "3.9.12"
  }
 },
 "nbformat": 4,
 "nbformat_minor": 5
}
