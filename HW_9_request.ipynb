{
 "cells": [
  {
   "cell_type": "markdown",
   "id": "02bbf849",
   "metadata": {},
   "source": [
    "### 1 Строим запрос к нашему сервису"
   ]
  },
  {
   "cell_type": "code",
   "execution_count": 1,
   "id": "fa4af987",
   "metadata": {},
   "outputs": [],
   "source": [
    "import requests\n",
    "\n",
    "import urllib.request\n",
    "import json \n",
    "\n",
    "import pandas as pd\n",
    "from urllib import request, parse\n",
    "\n",
    "import numpy as np\n",
    "from sklearn.metrics import roc_auc_score, roc_curve, precision_recall_curve\n",
    "from sklearn.metrics import f1_score"
   ]
  },
  {
   "cell_type": "code",
   "execution_count": 2,
   "id": "18900c4e",
   "metadata": {},
   "outputs": [],
   "source": [
    "# Пример данных\n",
    "data = (\n",
    "    19810,\n",
    "    60.3,\n",
    "    50\n",
    ")"
   ]
  },
  {
   "cell_type": "code",
   "execution_count": 3,
   "id": "b20f126d",
   "metadata": {},
   "outputs": [],
   "source": [
    "# формируем запрос\n",
    "def send_json(x):\n",
    "    age, weight, ap_lo  = x\n",
    "   \n",
    "    body = {\n",
    "        'age': age, \n",
    "        'weight': weight,\n",
    "        'ap_lo': ap_lo\n",
    "        }\n",
    "   \n",
    " #   print(body)\n",
    "\n",
    "    myurl = 'http://127.0.0.1:8082/' + '/predict'\n",
    "    headers = {'content-type': 'application/json'}\n",
    "    response = requests.post(myurl, json=body, headers=headers)\n",
    "    return response.json()['predictions']"
   ]
  },
  {
   "cell_type": "code",
   "execution_count": 4,
   "id": "e9060d74",
   "metadata": {},
   "outputs": [
    {
     "name": "stdout",
     "output_type": "stream",
     "text": [
      "prediction 0.41091756342829266\n"
     ]
    }
   ],
   "source": [
    "# обращение к серверу с запросом из одного набора data\n",
    "response = send_json(data)\n",
    "print('prediction', response)"
   ]
  },
  {
   "cell_type": "markdown",
   "id": "cc2233e3",
   "metadata": {},
   "source": [
    "### 2 Сделаем обработку массы запросов, загрузив X_test, y_test"
   ]
  },
  {
   "cell_type": "code",
   "execution_count": 5,
   "id": "00d75934",
   "metadata": {},
   "outputs": [],
   "source": [
    "X_test = pd.read_csv(\"X_test.csv\")\n",
    "y_test = pd.read_csv(\"y_test.csv\")"
   ]
  },
  {
   "cell_type": "code",
   "execution_count": 6,
   "id": "b0e58984",
   "metadata": {},
   "outputs": [
    {
     "data": {
      "text/html": [
       "<div>\n",
       "<style scoped>\n",
       "    .dataframe tbody tr th:only-of-type {\n",
       "        vertical-align: middle;\n",
       "    }\n",
       "\n",
       "    .dataframe tbody tr th {\n",
       "        vertical-align: top;\n",
       "    }\n",
       "\n",
       "    .dataframe thead th {\n",
       "        text-align: right;\n",
       "    }\n",
       "</style>\n",
       "<table border=\"1\" class=\"dataframe\">\n",
       "  <thead>\n",
       "    <tr style=\"text-align: right;\">\n",
       "      <th></th>\n",
       "      <th>age</th>\n",
       "      <th>weight</th>\n",
       "      <th>ap_lo</th>\n",
       "    </tr>\n",
       "  </thead>\n",
       "  <tbody>\n",
       "    <tr>\n",
       "      <th>0</th>\n",
       "      <td>15216</td>\n",
       "      <td>61.0</td>\n",
       "      <td>80</td>\n",
       "    </tr>\n",
       "    <tr>\n",
       "      <th>1</th>\n",
       "      <td>19815</td>\n",
       "      <td>54.0</td>\n",
       "      <td>80</td>\n",
       "    </tr>\n",
       "    <tr>\n",
       "      <th>2</th>\n",
       "      <td>20563</td>\n",
       "      <td>69.0</td>\n",
       "      <td>80</td>\n",
       "    </tr>\n",
       "    <tr>\n",
       "      <th>3</th>\n",
       "      <td>16625</td>\n",
       "      <td>57.0</td>\n",
       "      <td>70</td>\n",
       "    </tr>\n",
       "    <tr>\n",
       "      <th>4</th>\n",
       "      <td>14451</td>\n",
       "      <td>110.0</td>\n",
       "      <td>80</td>\n",
       "    </tr>\n",
       "    <tr>\n",
       "      <th>...</th>\n",
       "      <td>...</td>\n",
       "      <td>...</td>\n",
       "      <td>...</td>\n",
       "    </tr>\n",
       "    <tr>\n",
       "      <th>17495</th>\n",
       "      <td>19616</td>\n",
       "      <td>63.0</td>\n",
       "      <td>80</td>\n",
       "    </tr>\n",
       "    <tr>\n",
       "      <th>17496</th>\n",
       "      <td>21149</td>\n",
       "      <td>54.0</td>\n",
       "      <td>80</td>\n",
       "    </tr>\n",
       "    <tr>\n",
       "      <th>17497</th>\n",
       "      <td>15972</td>\n",
       "      <td>64.0</td>\n",
       "      <td>70</td>\n",
       "    </tr>\n",
       "    <tr>\n",
       "      <th>17498</th>\n",
       "      <td>18814</td>\n",
       "      <td>63.0</td>\n",
       "      <td>90</td>\n",
       "    </tr>\n",
       "    <tr>\n",
       "      <th>17499</th>\n",
       "      <td>19795</td>\n",
       "      <td>65.0</td>\n",
       "      <td>90</td>\n",
       "    </tr>\n",
       "  </tbody>\n",
       "</table>\n",
       "<p>17500 rows × 3 columns</p>\n",
       "</div>"
      ],
      "text/plain": [
       "         age  weight  ap_lo\n",
       "0      15216    61.0     80\n",
       "1      19815    54.0     80\n",
       "2      20563    69.0     80\n",
       "3      16625    57.0     70\n",
       "4      14451   110.0     80\n",
       "...      ...     ...    ...\n",
       "17495  19616    63.0     80\n",
       "17496  21149    54.0     80\n",
       "17497  15972    64.0     70\n",
       "17498  18814    63.0     90\n",
       "17499  19795    65.0     90\n",
       "\n",
       "[17500 rows x 3 columns]"
      ]
     },
     "execution_count": 6,
     "metadata": {},
     "output_type": "execute_result"
    }
   ],
   "source": [
    "X_test[['age', 'weight', 'ap_lo']]"
   ]
  },
  {
   "cell_type": "markdown",
   "id": "6140dab6",
   "metadata": {},
   "source": [
    "Передаем запрос одиночный из наших данных и посмотрим на ответ"
   ]
  },
  {
   "cell_type": "code",
   "execution_count": 7,
   "id": "8d71c677",
   "metadata": {},
   "outputs": [],
   "source": [
    "response = send_json(X_test[['age', 'weight', 'ap_lo']].iloc[1,:])"
   ]
  },
  {
   "cell_type": "code",
   "execution_count": 8,
   "id": "04b18ac0",
   "metadata": {},
   "outputs": [
    {
     "data": {
      "text/plain": [
       "0.38517198179955026"
      ]
     },
     "execution_count": 8,
     "metadata": {},
     "output_type": "execute_result"
    }
   ],
   "source": [
    "response"
   ]
  },
  {
   "cell_type": "markdown",
   "id": "cb8f727e",
   "metadata": {},
   "source": [
    "### 3 Сделаем N запросов и оценим время"
   ]
  },
  {
   "cell_type": "code",
   "execution_count": 9,
   "id": "410d7074",
   "metadata": {},
   "outputs": [],
   "source": [
    "N = 100"
   ]
  },
  {
   "cell_type": "code",
   "execution_count": 10,
   "id": "f8ad9e99",
   "metadata": {},
   "outputs": [
    {
     "name": "stdout",
     "output_type": "stream",
     "text": [
      "CPU times: total: 562 ms\n",
      "Wall time: 2.61 s\n"
     ]
    }
   ],
   "source": [
    "%%time\n",
    "predictions = X_test[['age', 'weight', 'ap_lo']].iloc[:N].apply(lambda x: send_json(x), axis=1)"
   ]
  },
  {
   "cell_type": "code",
   "execution_count": 11,
   "id": "2e379237",
   "metadata": {},
   "outputs": [
    {
     "data": {
      "text/plain": [
       "array([0.2296422 , 0.38517198, 0.51611893, 0.25971371, 0.47138702])"
      ]
     },
     "execution_count": 11,
     "metadata": {},
     "output_type": "execute_result"
    }
   ],
   "source": [
    "predictions.values[:5]"
   ]
  },
  {
   "cell_type": "markdown",
   "id": "230dc35a",
   "metadata": {},
   "source": [
    "### 4 Посчитаем метрику"
   ]
  },
  {
   "cell_type": "code",
   "execution_count": 12,
   "id": "2b354345",
   "metadata": {},
   "outputs": [
    {
     "data": {
      "text/html": [
       "<div>\n",
       "<style scoped>\n",
       "    .dataframe tbody tr th:only-of-type {\n",
       "        vertical-align: middle;\n",
       "    }\n",
       "\n",
       "    .dataframe tbody tr th {\n",
       "        vertical-align: top;\n",
       "    }\n",
       "\n",
       "    .dataframe thead th {\n",
       "        text-align: right;\n",
       "    }\n",
       "</style>\n",
       "<table border=\"1\" class=\"dataframe\">\n",
       "  <thead>\n",
       "    <tr style=\"text-align: right;\">\n",
       "      <th></th>\n",
       "      <th>cardio</th>\n",
       "    </tr>\n",
       "  </thead>\n",
       "  <tbody>\n",
       "    <tr>\n",
       "      <th>0</th>\n",
       "      <td>0</td>\n",
       "    </tr>\n",
       "    <tr>\n",
       "      <th>1</th>\n",
       "      <td>0</td>\n",
       "    </tr>\n",
       "    <tr>\n",
       "      <th>2</th>\n",
       "      <td>0</td>\n",
       "    </tr>\n",
       "    <tr>\n",
       "      <th>3</th>\n",
       "      <td>0</td>\n",
       "    </tr>\n",
       "    <tr>\n",
       "      <th>4</th>\n",
       "      <td>0</td>\n",
       "    </tr>\n",
       "  </tbody>\n",
       "</table>\n",
       "</div>"
      ],
      "text/plain": [
       "   cardio\n",
       "0       0\n",
       "1       0\n",
       "2       0\n",
       "3       0\n",
       "4       0"
      ]
     },
     "execution_count": 12,
     "metadata": {},
     "output_type": "execute_result"
    }
   ],
   "source": [
    "y_test.head()"
   ]
  },
  {
   "cell_type": "code",
   "execution_count": 13,
   "id": "146ff155",
   "metadata": {},
   "outputs": [
    {
     "data": {
      "text/plain": [
       "17500"
      ]
     },
     "execution_count": 13,
     "metadata": {},
     "output_type": "execute_result"
    }
   ],
   "source": [
    "y_test.size"
   ]
  },
  {
   "cell_type": "code",
   "execution_count": 14,
   "id": "d9318e74",
   "metadata": {},
   "outputs": [
    {
     "data": {
      "text/plain": [
       "cardio\n",
       "0         8820\n",
       "1         8680\n",
       "dtype: int64"
      ]
     },
     "execution_count": 14,
     "metadata": {},
     "output_type": "execute_result"
    }
   ],
   "source": [
    "y_test.value_counts()"
   ]
  },
  {
   "cell_type": "code",
   "execution_count": 15,
   "id": "38b9b211",
   "metadata": {},
   "outputs": [
    {
     "name": "stdout",
     "output_type": "stream",
     "text": [
      "Best Threshold=0.25992135462643295, F-Score=0.657, Precision=0.490, Recall=1.000\n"
     ]
    }
   ],
   "source": [
    "precision, recall, thresholds = precision_recall_curve(y_test[:N], predictions)\n",
    "\n",
    "fscore = (2 * precision * recall) / (precision + recall)\n",
    "# locate the index of the largest f score\n",
    "ix = np.argmax(fscore)\n",
    "print(f'Best Threshold={thresholds[ix]}, F-Score={fscore[ix]:.3f}, Precision={precision[ix]:.3f}, Recall={recall[ix]:.3f}')"
   ]
  },
  {
   "cell_type": "code",
   "execution_count": 16,
   "id": "48b7fd5b",
   "metadata": {},
   "outputs": [
    {
     "data": {
      "text/plain": [
       "0.6354877559213168"
      ]
     },
     "execution_count": 16,
     "metadata": {},
     "output_type": "execute_result"
    }
   ],
   "source": [
    "roc_auc_score(y_score=predictions.values, y_true=y_test.values[:N])"
   ]
  }
 ],
 "metadata": {
  "kernelspec": {
   "display_name": "Python 3 (ipykernel)",
   "language": "python",
   "name": "python3"
  },
  "language_info": {
   "codemirror_mode": {
    "name": "ipython",
    "version": 3
   },
   "file_extension": ".py",
   "mimetype": "text/x-python",
   "name": "python",
   "nbconvert_exporter": "python",
   "pygments_lexer": "ipython3",
   "version": "3.9.12"
  }
 },
 "nbformat": 4,
 "nbformat_minor": 5
}
